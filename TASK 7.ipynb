{
  "nbformat": 4,
  "nbformat_minor": 0,
  "metadata": {
    "colab": {
      "name": "TASK  7.ipynb",
      "provenance": [],
      "include_colab_link": true
    },
    "kernelspec": {
      "name": "python3",
      "display_name": "Python 3"
    },
    "language_info": {
      "name": "python"
    }
  },
  "cells": [
    {
      "cell_type": "markdown",
      "metadata": {
        "id": "view-in-github",
        "colab_type": "text"
      },
      "source": [
        "<a href=\"https://colab.research.google.com/github/arundhathivnath/learn.py/blob/main/TASK%207.ipynb\" target=\"_parent\"><img src=\"https://colab.research.google.com/assets/colab-badge.svg\" alt=\"Open In Colab\"/></a>"
      ]
    },
    {
      "cell_type": "markdown",
      "metadata": {
        "id": "b0V3vwzcydKy"
      },
      "source": [
        "1. Write a program to check whether a  string is palindrome or not using functions. \n",
        "\n",
        "   ( A function is to be created to check whether the string is palindrome and it should give the output true or false to the main program)"
      ]
    },
    {
      "cell_type": "code",
      "metadata": {
        "id": "M2Mi7EOdyxiu",
        "outputId": "0a06d642-099b-4293-9574-fb9a3e6065ca",
        "colab": {
          "base_uri": "https://localhost:8080/"
        }
      },
      "source": [
        "#please enter the code below this line.\n",
        "def isPalindrome(s):\n",
        "  if s==string[::-1] :\n",
        "    print(\"Palindrome\")\n",
        "  else:\n",
        "    print('Not palindrom')\n",
        "\n",
        "string=input(\"Enter a string : \")\n",
        "isPalindrome(string)      "
      ],
      "execution_count": 6,
      "outputs": [
        {
          "output_type": "stream",
          "text": [
            "Enter a string : radar\n",
            "Palindrome\n"
          ],
          "name": "stdout"
        }
      ]
    },
    {
      "cell_type": "markdown",
      "metadata": {
        "id": "vSiShTyOzEz-"
      },
      "source": [
        "2.  Write a menu driven program to find largest element in L, smallest element, avg of all values, sum of all values in L. All these operation should be performed in different functions and the result should be returned.\n",
        "\n",
        "\n",
        "      L=[23,24,11,90,1,41,9,99,28,56,72]"
      ]
    },
    {
      "cell_type": "code",
      "metadata": {
        "id": "fRtMIw_CzsmO",
        "outputId": "84009e8e-faf7-49d0-e113-8252272a4560",
        "colab": {
          "base_uri": "https://localhost:8080/"
        }
      },
      "source": [
        "#please enter the code below this line.\n",
        "def Average(lst):\n",
        "  \n",
        "  return sum(lst) / len(lst)\n",
        "\n",
        "total = 0\n",
        "\n",
        "list1 = [23,24,11,90,1,41,9,99,28,56,72]\n",
        "\n",
        "list1.sort()\n",
        "\n",
        "average = Average(list1)\n",
        "\n",
        "for ele in range(0,len(list1)):\n",
        "\n",
        "  total = total + list1[ele]\n",
        "\n",
        "print(\"Largest element is:\",list1[-1])  \n",
        "\n",
        "print(\"Smallest element is:\",*list1[:1])\n",
        "\n",
        "print(\"Average of the list =\",round(average,2))\n",
        "\n",
        "print(\"Sum of all element in given list:\",total)\n",
        "\n",
        "\n"
      ],
      "execution_count": 17,
      "outputs": [
        {
          "output_type": "stream",
          "text": [
            "Largest element is: 99\n",
            "Smallest element is: 1\n",
            "Average of the list = 41.27\n",
            "Sum of all element in given list: 454\n"
          ],
          "name": "stdout"
        }
      ]
    }
  ]
}