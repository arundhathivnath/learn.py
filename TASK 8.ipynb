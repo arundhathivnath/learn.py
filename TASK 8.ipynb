{
  "nbformat": 4,
  "nbformat_minor": 0,
  "metadata": {
    "colab": {
      "name": "TASK 8.ipynb",
      "provenance": [],
      "include_colab_link": true
    },
    "kernelspec": {
      "name": "python3",
      "display_name": "Python 3"
    },
    "language_info": {
      "name": "python"
    }
  },
  "cells": [
    {
      "cell_type": "markdown",
      "metadata": {
        "id": "view-in-github",
        "colab_type": "text"
      },
      "source": [
        "<a href=\"https://colab.research.google.com/github/arundhathivnath/learn.py/blob/main/TASK%208.ipynb\" target=\"_parent\"><img src=\"https://colab.research.google.com/assets/colab-badge.svg\" alt=\"Open In Colab\"/></a>"
      ]
    },
    {
      "cell_type": "markdown",
      "metadata": {
        "id": "slsGswYbJSo7"
      },
      "source": [
        "1. Generate a 3 x 3 matrix using random module."
      ]
    },
    {
      "cell_type": "code",
      "metadata": {
        "id": "GGRQSYyNJW9t",
        "outputId": "d4f39a14-58ab-4dd6-fac8-ecc574f5ffd4",
        "colab": {
          "base_uri": "https://localhost:8080/"
        }
      },
      "source": [
        "#please provide your answer below this line.\n",
        "import numpy as np\n",
        "Y = np.random.rand(3,3)\n",
        "print(Y)"
      ],
      "execution_count": 2,
      "outputs": [
        {
          "output_type": "stream",
          "text": [
            "[[0.65293409 0.50233227 0.42937969]\n",
            " [0.44212971 0.84031562 0.42713801]\n",
            " [0.95752386 0.53935412 0.01808734]]\n"
          ],
          "name": "stdout"
        }
      ]
    },
    {
      "cell_type": "markdown",
      "metadata": {
        "id": "4OB9KFX6JfYA"
      },
      "source": [
        "2. Generate two 4 x 4 matrix using numpy and \n",
        "\n",
        " a) Reshape it to 2 x 8matrix and vertically stack it.\n",
        "\n",
        " b) Reshape it to 2 x 8 matrix and horizontally stack it."
      ]
    },
    {
      "cell_type": "code",
      "metadata": {
        "id": "VoIqYeNWJ4H_",
        "outputId": "ef37f959-e008-40b1-a3cc-19f2d4a2b2bd",
        "colab": {
          "base_uri": "https://localhost:8080/"
        }
      },
      "source": [
        "#please provide your answer below this line.\n",
        "import numpy as np\n",
        "a = np.arange(3,19).reshape(4,4)\n",
        "print(a)\n",
        "b = np.arange(2,18).reshape(4,4)\n",
        "print(b)\n",
        "a = np.arange(3,19).reshape(2,8)\n",
        "b = np.arange(2,18).reshape(2,8)\n",
        "c = np.vstack((a,b))\n",
        "print(c)\n",
        "d = np.hstack((a,b))\n",
        "print(d)"
      ],
      "execution_count": 3,
      "outputs": [
        {
          "output_type": "stream",
          "text": [
            "[[ 3  4  5  6]\n",
            " [ 7  8  9 10]\n",
            " [11 12 13 14]\n",
            " [15 16 17 18]]\n",
            "[[ 2  3  4  5]\n",
            " [ 6  7  8  9]\n",
            " [10 11 12 13]\n",
            " [14 15 16 17]]\n",
            "[[ 3  4  5  6  7  8  9 10]\n",
            " [11 12 13 14 15 16 17 18]\n",
            " [ 2  3  4  5  6  7  8  9]\n",
            " [10 11 12 13 14 15 16 17]]\n",
            "[[ 3  4  5  6  7  8  9 10  2  3  4  5  6  7  8  9]\n",
            " [11 12 13 14 15 16 17 18 10 11 12 13 14 15 16 17]]\n"
          ],
          "name": "stdout"
        }
      ]
    }
  ]
}