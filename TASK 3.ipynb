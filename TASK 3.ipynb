{
  "nbformat": 4,
  "nbformat_minor": 0,
  "metadata": {
    "colab": {
      "name": "TASK 3.ipynb",
      "provenance": [],
      "include_colab_link": true
    },
    "kernelspec": {
      "name": "python3",
      "display_name": "Python 3"
    },
    "language_info": {
      "name": "python"
    }
  },
  "cells": [
    {
      "cell_type": "markdown",
      "metadata": {
        "id": "view-in-github",
        "colab_type": "text"
      },
      "source": [
        "<a href=\"https://colab.research.google.com/github/arundhathivnath/learn.py/blob/main/TASK%203.ipynb\" target=\"_parent\"><img src=\"https://colab.research.google.com/assets/colab-badge.svg\" alt=\"Open In Colab\"/></a>"
      ]
    },
    {
      "cell_type": "markdown",
      "metadata": {
        "id": "z20IIB0eUQMN"
      },
      "source": [
        "1 - Write a program which takes a number as input from the user and check whether the number is odd or even.If odd print the number is odd if not print it is even."
      ]
    },
    {
      "cell_type": "code",
      "metadata": {
        "id": "dVgGJ-wTVRit",
        "outputId": "f75e6c4d-3586-49bc-bc29-8b05b1096489",
        "colab": {
          "base_uri": "https://localhost:8080/"
        }
      },
      "source": [
        "#please enter your answer below this line\n",
        "x = int(input(\"Enter a number:\"))\n",
        "if (x%2==0):\n",
        "  print(x,\"is an Even number\")\n",
        "else:\n",
        "   print(x,\"is an odd number\")\n"
      ],
      "execution_count": 7,
      "outputs": [
        {
          "output_type": "stream",
          "text": [
            "Enter a number:5711\n",
            "5711 is an odd number\n"
          ],
          "name": "stdout"
        }
      ]
    },
    {
      "cell_type": "markdown",
      "metadata": {
        "id": "7778XD8PVblj"
      },
      "source": [
        "2 -Write a program to find the largest among three numbers and print the largest number."
      ]
    },
    {
      "cell_type": "code",
      "metadata": {
        "id": "m0tUOkOFWR-d",
        "outputId": "93fd7b8b-7b69-4e4e-c7dc-82cb587bbfa0",
        "colab": {
          "base_uri": "https://localhost:8080/"
        }
      },
      "source": [
        "#please enter your answer below this line\n",
        "num1 = int(input(\"Enter a number :\"))\n",
        "num2 = int(input(\"Enter a number :\"))\n",
        "num3 = int(input(\"Enter a number :\"))\n",
        "if (num1>=num2) and (num1>=num3):\n",
        "  Largest = num1\n",
        "elif (num2>=num3) and (num2>=num1):\n",
        "  Largest = num2\n",
        "else:\n",
        "  Largest = num3\n",
        "print(\"The largest number is\",Largest)"
      ],
      "execution_count": 9,
      "outputs": [
        {
          "output_type": "stream",
          "text": [
            "Enter a number :57\n",
            "Enter a number :11\n",
            "Enter a number :7\n",
            "The largest number is 57\n"
          ],
          "name": "stdout"
        }
      ]
    },
    {
      "cell_type": "markdown",
      "metadata": {
        "id": "Jg2Ns4OQWaJy"
      },
      "source": [
        "3 -Write a function to prompt for a score between 0.0 and 1.0.\n",
        "\n",
        "    If the score is out of range, print an error.\n",
        "    If the score is between 0.0 and 1.0, print a grade using the following table:\n",
        "    Score Grade\n",
        "             Score\tGrade\n",
        "            >= 0.9\tA\n",
        "            >= 0.8\tB\n",
        "            >= 0.7\tC\n",
        "            >= 0.6\tD\n",
        "             < 0.6\tF\n",
        "If the user enters a value out of range, print a suitable error message and exit. For the test, enter a score of 0.85."
      ]
    },
    {
      "cell_type": "code",
      "metadata": {
        "id": "6DLbGe6XXZPx",
        "outputId": "d6b3c772-592b-471b-8f91-3590acdfcfb2",
        "colab": {
          "base_uri": "https://localhost:8080/"
        }
      },
      "source": [
        "#please enter your answer below this line\n",
        "score = float(input(\"Enter the Score :\"))\n",
        "if (score>=0.9) and (score<=1.0):\n",
        "  print(\"Grade is A\")\n",
        "elif (score>=0.8) and (score<=0.9):\n",
        "  print(\"Grade is B\")\n",
        "elif (score>=0.7) and (score<=0.8):\n",
        "  print(\"Grade is C\")\n",
        "elif (score>=0.6) and (score<=0.7):\n",
        "  print(\"Grade is D\")\n",
        "elif (score<0.6) and (score>0.0):\n",
        "  print(\"Grade is F\")\n",
        "else:\n",
        "  print(\"Error\")"
      ],
      "execution_count": 10,
      "outputs": [
        {
          "output_type": "stream",
          "text": [
            "Enter the Score :0.85\n",
            "Grade is B\n"
          ],
          "name": "stdout"
        }
      ]
    },
    {
      "cell_type": "markdown",
      "metadata": {
        "id": "-o0scDq7WkVT"
      },
      "source": [
        ""
      ]
    }
  ]
}